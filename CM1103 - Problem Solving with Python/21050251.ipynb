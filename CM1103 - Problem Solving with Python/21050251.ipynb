{
 "cells": [
  {
   "cell_type": "code",
   "execution_count": 248,
   "metadata": {},
   "outputs": [],
   "source": [
    "# You may add additional imports here\n",
    "import random\n",
    "import matplotlib.pyplot as plt\n",
    "import csv"
   ]
  },
  {
   "cell_type": "markdown",
   "metadata": {},
   "source": [
    "Question 1\n",
    "==========\n",
    "\n",
    "All parts of Question 1 use the _point-a-rally (PARS) scoring_ system.\n",
    "\n",
    "**Question 1a:** Complete the following function so that it implements the PARS algorithm from the coursework specification.\n",
    "\n",
    "**[Functionality: 7 marks]**"
   ]
  },
  {
   "cell_type": "code",
   "execution_count": 249,
   "metadata": {},
   "outputs": [],
   "source": [
    "def game (ra,rb):\n",
    "    aProb = ra/(ra+rb)\n",
    "    bProb = 1-aProb\n",
    "    aScore = 0\n",
    "    bScore = 0                                     \n",
    "    while (aScore < 11 and bScore < 11) or abs(aScore - bScore) < 2:\n",
    "        if random.random() < aProb:\n",
    "            aScore += 1\n",
    "        else:\n",
    "            bScore += 1               \n",
    "    return aScore, bScore"
   ]
  },
  {
   "cell_type": "markdown",
   "metadata": {},
   "source": [
    "**Testing:** If the random seed is set to 57, then calling the function with arguments `70` and `30` should return `(11,5)`."
   ]
  },
  {
   "cell_type": "code",
   "execution_count": 250,
   "metadata": {},
   "outputs": [
    {
     "name": "stdout",
     "output_type": "stream",
     "text": [
      "(11, 5)\n"
     ]
    }
   ],
   "source": [
    "random.seed(57)\n",
    "print(game(70, 30))"
   ]
  },
  {
   "cell_type": "markdown",
   "metadata": {},
   "source": [
    "**Question 1b:** Complete the following function `win_probability_game(ra, rb, simulations)` to simulate `simulations` games in order to estimate the probability that a player with ability `ra` will win a game against a player of ability `rb`.\n",
    "\n",
    "**[Functionality: 4 marks]**"
   ]
  },
  {
   "cell_type": "code",
   "execution_count": 251,
   "metadata": {},
   "outputs": [],
   "source": [
    "def win_probability_game(ra, rb, simulations):\n",
    "    aGames = 0\n",
    "    for i in range(simulations):\n",
    "        aScore,bScore = game(ra,rb)\n",
    "        if aScore > bScore:\n",
    "            aGames += 1\n",
    "            #print(aGames)\n",
    "    #print (aGames/simulations)\n",
    "    return aGames/simulations"
   ]
  },
  {
   "cell_type": "markdown",
   "metadata": {},
   "source": [
    "**Testing:** Given sufficient simulations, calling the function with abilities `70` and `30` should give the answer `0.98` when printed to 2 decimal places."
   ]
  },
  {
   "cell_type": "code",
   "execution_count": 252,
   "metadata": {},
   "outputs": [
    {
     "name": "stdout",
     "output_type": "stream",
     "text": [
      "0.98\n"
     ]
    }
   ],
   "source": [
    "# Print win_probability_game(70, 30, print(round(winProbability(70, 30), 2))) to 2 decimal places for a suitable value of n\n",
    "print (round(win_probability_game(70,30,1000),2))"
   ]
  },
  {
   "cell_type": "markdown",
   "metadata": {},
   "source": [
    "**Question 1c:** Assume players abilities are given in a csv file with the format:\n",
    "```\n",
    "player a ability, player b ability,\n",
    "60, 20,\n",
    "100, 55,\n",
    "50, 40,\n",
    "20, 70,\n",
    "95, 85,\n",
    "```\n",
    "Complete the following function to read in a specified csv file of this format and return a `list` of `tuple`s containing each pair of abilities.\n",
    "\n",
    "**[Functionality: 4 marks]**"
   ]
  },
  {
   "cell_type": "code",
   "execution_count": 253,
   "metadata": {},
   "outputs": [],
   "source": [
    "def read_abilities(filename): \n",
    "    list = []\n",
    "    with open (filename, \"r\") as csvfile:\n",
    "        rdr = csv.reader(csvfile)\n",
    "        next(rdr, None)\n",
    "        for line in rdr:\n",
    "            list.append((int(line[0].strip()),int(line[1].strip())))\n",
    "        #print (list[1:])\n",
    "        #list = list[1:]\n",
    "        return (list)"
   ]
  },
  {
   "cell_type": "markdown",
   "metadata": {},
   "source": [
    "**Testing:** Calling the function to read the file `test.csv` from Learning Central should return `[(60, 20), (100, 55), (50, 40), (20, 70), (95, 85)]`"
   ]
  },
  {
   "cell_type": "code",
   "execution_count": 254,
   "metadata": {},
   "outputs": [
    {
     "name": "stdout",
     "output_type": "stream",
     "text": [
      "[(60, 20), (100, 55), (50, 40), (20, 70), (95, 85)]\n"
     ]
    }
   ],
   "source": [
    "# Print the result of calling the function for the file `test.csv`\n",
    "print (read_abilities(\"test.csv\"))"
   ]
  },
  {
   "cell_type": "markdown",
   "metadata": {},
   "source": [
    "**Question 1d:** Write a function that takes a `list` of the format returned by your answer to 1c as an argument, and uses `matplotlib` to produce a plot (with labelled axes) showing the probability that player a beats player b (in a game) against `ra / r_b` for each pair.\n",
    "\n",
    "**[Functionality: 5 marks]**"
   ]
  },
  {
   "cell_type": "code",
   "execution_count": 255,
   "metadata": {},
   "outputs": [],
   "source": [
    "def plot_win_probabilities(filename,simulations): \n",
    "    list = []\n",
    "    list = filename\n",
    "    #print (list)\n",
    "    for tuple in list:\n",
    "        ra = tuple[0]\n",
    "        rb = tuple[1]\n",
    "        #print (ra,rb)\n",
    "        plt.scatter([(float(ra)/float(rb))],[win_probability_game(float(ra),float(rb),simulations)], color=\"blue\")\n",
    "    plt.ylabel('Probability a wins')\n",
    "    plt.xlabel(\"ra/rb\")\n",
    "    "
   ]
  },
  {
   "cell_type": "markdown",
   "metadata": {},
   "source": [
    "**Testing:** The following figure (or similar) should result from the data `[(60, 20), (100, 55), (50, 40), (20, 70), (95, 85)]'\n",
    "\n",
    "<img src=\"./win_probabilities.png\" alt=\"Win probabilities\" width=\"500\">\n"
   ]
  },
  {
   "cell_type": "code",
   "execution_count": 256,
   "metadata": {},
   "outputs": [
    {
     "data": {
      "image/png": "[encoded data removed]",
      "text/plain": [
       "<Figure size 432x288 with 1 Axes>"
      ]
     },
     "metadata": {
      "needs_background": "light"
     },
     "output_type": "display_data"
    }
   ],
   "source": [
    "# Call the function to plot the figure here\n",
    "plot_win_probabilities(read_abilities(\"test.csv\"),600)"
   ]
  },
  {
   "cell_type": "markdown",
   "metadata": {},
   "source": [
    "**Question 1e:** Complete the following function `win_probability_match(ra, rb, simulations, m)` to simulate `simulations` matches which are won by the first player to win `m` games, and returns an estimate of the probability that a player with ability `ra` will win such a match against a player of ability `rb`.\n",
    "\n",
    "Provide code that works out the smallest value of `m` such that `win_probability_match(60, 40, simulations, m)` is at least `0.9`. \n",
    "\n",
    "_HINT: make sure you use an appropriate value for `simulations`._\n",
    "\n",
    "**[Functionality: 5 marks]**"
   ]
  },
  {
   "cell_type": "code",
   "execution_count": 259,
   "metadata": {},
   "outputs": [],
   "source": [
    "def win_probability_match(ra, rb, simulations, m):\n",
    "    aMatches = 0\n",
    "    bMatches = 0\n",
    "    for i in range(simulations):\n",
    "        result = matchWinChecker(ra,rb,m)\n",
    "        if result == \"a\":\n",
    "            aMatches +=1\n",
    "        elif result == \"b\":\n",
    "            bMatches +=1\n",
    "    #print (\"aMatches=\",aMatches)\n",
    "    #print (\"bMatches=\",bMatches)\n",
    "    #print (aMatches/(aMatches+bMatches))\n",
    "    return aMatches/(aMatches+bMatches)\n",
    "\n",
    "def matchWinChecker(ra,rb,m):\n",
    "    aGames = 0\n",
    "    bGames = 0\n",
    "    matchEnd = False\n",
    "    while matchEnd == False:\n",
    "        aScore, bScore = game(ra,rb)\n",
    "        if aScore > bScore:\n",
    "            aGames += 1\n",
    "            if aGames == m:\n",
    "                return \"a\"\n",
    "        elif bScore > aScore:\n",
    "            bGames += 1\n",
    "            if bGames == m:\n",
    "                return \"b\"\n",
    "            \n",
    "# Calculate lowest value of m here"
   ]
  },
  {
   "cell_type": "code",
   "execution_count": 260,
   "metadata": {},
   "outputs": [
    {
     "name": "stdout",
     "output_type": "stream",
     "text": [
      "2\n"
     ]
    }
   ],
   "source": [
    "#print (win_probability_match(60, 40, 300, 2))\n",
    "m=1\n",
    "end = False\n",
    "while end == False:\n",
    "    if win_probability_match(60, 40, 10000, m) < 0.9:\n",
    "        m+=1\n",
    "    else:\n",
    "        print (m)\n",
    "        end = True"
   ]
  },
  {
   "cell_type": "markdown",
   "metadata": {},
   "source": [
    "Question 2\n",
    "==========\n",
    "\n",
    "Complete the remaining template of a scientific report that uses the results of simulation (with suitable input data) to investigate whether English or PARS is the ``better'' scoring method for squash matches. \n",
    "\n",
    "You should clearly state any assumptions you make, and may add any number of code cells. Guidance for completing the markdown/text cells is given in the coursework specification. The word count of the remaining markdown/text cells must be at most 750.\n",
    "\n",
    "Your investigation should consider the relative ability of the two players (i.e. `ra/rb`) as the _independent variable_ and include appropriate figures that show how your choice of relevant _dependent variable_ varies. Your results **must** cover at least 50 different values of `ra/rb`.\n",
    "\n",
    "Some starting points you may consider:\n",
    "- How _fair_ is the scoring method - does the better player usually win?\n",
    "- Shorter matches are usually preferable (e.g. for television) - if you assume each rally in a match takes equal time, how long do matches typically last?\n",
    "- What effect does the relative ability of the two players have?\n",
    "\n",
    "**[Report: 7 marks; Achievement: 8 marks]**"
   ]
  },
  {
   "cell_type": "markdown",
   "metadata": {},
   "source": [
    "## Problem"
   ]
  },
  {
   "cell_type": "markdown",
   "metadata": {},
   "source": [
    "I am investigating whether the English Scoring System or the Point a Rally System (PARS) is a better scoring system for squash games.\n",
    "\n",
    "A better scoring system will mean that the player with the higher modelled ability will win more frequently, as well as having a shorter match with less rallies in total. \n",
    "\n",
    "My hypothesis is that the PARS will return better games. This is because I expect the matches will be shorter as a point will be awarded after every rally as opposed to only when the server wins the rally.  I also believe that the more able player should win more as in English Scoring the better player may lose out on potential points as they have not served. This will be a problem the closer the two players are in terms of ability. In PARS the winner of the rally gets a point so the better player will not lose potential points in this way."
   ]
  },
  {
   "cell_type": "markdown",
   "metadata": {},
   "source": [
    "## Method"
   ]
  },
  {
   "cell_type": "markdown",
   "metadata": {},
   "source": [
    "I will investigate how high the correlation is between the probability of A winning and A's ability level for both systems. This will be presented as a graph of ra/rb plotted against the probability of A winning a match of 5 games. To get this graph I have used my previous probability function where for a given amount of simulations it will loop through a match, and see which player has won. I have set the number of simulations to 1000.\n",
    "\n",
    "I will investigate the mean length of each game for a given amount of simulations for PARS and English Scoring. To do this I have made record of the amount of points in a single game for the given ra and rb value and looped this function for a set amount of times, then I have divided the total points by the amount of times the function had looped to give the mean rallies per game. A shorter game length would be desirable\n",
    "\n",
    "I have used a .csv file for the ra and rb values, where the rb value is always 15 and ra ranges from 1-250."
   ]
  },
  {
   "cell_type": "code",
   "execution_count": 261,
   "metadata": {},
   "outputs": [],
   "source": [
    "import random\n",
    "import csv\n",
    "import matplotlib.pyplot as plt\n",
    "m=5\n",
    "\n",
    "#PARS game\n",
    "def game2(ra,rb):\n",
    "    aProb = ra/(ra+rb)\n",
    "    bProb = 1-aProb\n",
    "    aScore = 0\n",
    "    bScore = 0                                \n",
    "    while (aScore < 11 and bScore < 11) or abs(aScore - bScore) < 2:\n",
    "        if random.random() < aProb:\n",
    "            #print (\"A won point whilst A was serving\")\n",
    "            aScore += 1   \n",
    "        else:\n",
    "            #print (\"B won point whilst A was serving\")\n",
    "            bScore += 1              \n",
    "    #print (aScore,bScore)\n",
    "    return aScore, bScore\n",
    "\n",
    "#PARS plotting function\n",
    "def plot_win_probabilities2(simulations):\n",
    "    xplot = []\n",
    "    yplotPARS = []\n",
    "    yplotEnglish = []\n",
    "    list = readAbilities(\"values.csv\")\n",
    "    #print (list)\n",
    "    for i in list:\n",
    "        #ra = random.randint(1,100)\n",
    "        #rb = random.randint(1,100)\n",
    "        ra = i[0]\n",
    "        rb = i[1]\n",
    "        xplot.append(ra/rb)\n",
    "        yplotPARS.append(win_probability_match2(ra, rb, simulations, m))\n",
    "        yplotEnglish.append(win_probability_matchEnglish(ra, rb, simulations, m))\n",
    "    plt.plot(xplot,yplotPARS,\"r\", label = \"PARS\")\n",
    "    plt.plot(xplot,yplotEnglish,\"b\", label = \"English Scoring System\")\n",
    "    plt.xlim([0.5, 1.75])\n",
    "    plt.legend()\n",
    "    plt.title(\"A graph showing the probability that A wins a match vs the relative abilities of A and B, for the PARS and English Scoring\")\n",
    "    plt.ylabel('Probability A wins match')\n",
    "    plt.xlabel(\"Relative abilities of A and B (ra/rb)\")\n",
    "    plt.show()\n",
    "\n",
    "#PARS probability function\n",
    "def win_probability_match2(ra, rb, simulations, m):\n",
    "    aMatches = 0\n",
    "    bMatches = 0\n",
    "    for i in range(simulations):\n",
    "        result = matchWinChecker2(ra,rb,m)\n",
    "        if result == \"a\":\n",
    "            aMatches +=1\n",
    "        elif result == \"b\":\n",
    "            bMatches +=1\n",
    "    #print (\"aMatches=\",aMatches)\n",
    "    #print (\"bMatches=\",bMatches)\n",
    "    #print (aMatches/(aMatches+bMatches))\n",
    "    return aMatches/(aMatches+bMatches)\n",
    "\n",
    "#PARS checker function\n",
    "def matchWinChecker2(ra,rb,m):\n",
    "    aGames = 0\n",
    "    bGames = 0\n",
    "    matchEnd = False\n",
    "    while matchEnd == False:\n",
    "        aScore, bScore = game2(ra,rb)\n",
    "        if aScore > bScore:\n",
    "            #print (\"A wins\",\"A:\",aGames,\"B\",bGames)\n",
    "            aGames += 1\n",
    "            if aGames == m:\n",
    "                return \"a\"\n",
    "        elif bScore > aScore:\n",
    "            #print (\"B wins\",\"A:\",aGames,\"B\",bGames)\n",
    "            bGames += 1\n",
    "            if bGames == m:\n",
    "                return \"b\"\n",
    "\n",
    "#English main game\n",
    "def englishGame (ra,rb):    \n",
    "    aProb = ra/(ra+rb)\n",
    "    bProb = 1-aProb\n",
    "    aScore = 0\n",
    "    bScore = 0\n",
    "    server = \"A\"\n",
    "    finalpoint = 9\n",
    "    endGame = False\n",
    "    rallies = 0\n",
    "    if random.random() < 0.5:\n",
    "        server = \"A\"\n",
    "    else:\n",
    "        server = \"B\"\n",
    "    while endGame == False:\n",
    "        if server == \"A\":\n",
    "            if random.random() < aProb:\n",
    "                #print (\"A won point whilst A was serving\")\n",
    "                server = \"A\"\n",
    "                aScore += 1           \n",
    "            else:\n",
    "                #print (\"B won point whilst A was serving\")             \n",
    "                server = \"B\"\n",
    "                rallies += 1\n",
    "                    \n",
    "        elif server == \"B\":\n",
    "            if random.random() <bProb:\n",
    "                #print (\"B won point whilst B was serving\")             \n",
    "                server = \"B\"\n",
    "                bScore += 1\n",
    "            else:\n",
    "                #print (\"A won point whilst B was serving\")            \n",
    "                server = \"A\"\n",
    "                rallies += 1\n",
    "        #rallies += 1\n",
    "        if aScore == 8 and bScore == 8:\n",
    "            if random.random() <0.5:\n",
    "                finalpoint = 10\n",
    "        if (aScore == finalpoint) or (bScore == finalpoint):\n",
    "            endGame = True\n",
    "    return aScore,bScore, rallies\n",
    "\n",
    "#English probability function\n",
    "def win_probability_matchEnglish(ra, rb, simulations, m):\n",
    "    aMatches = 0\n",
    "    bMatches = 0\n",
    "    for i in range(simulations):\n",
    "        result = matchWinCheckerEnglish(ra,rb,m)\n",
    "        if result == \"a\":\n",
    "            aMatches +=1\n",
    "        elif result == \"b\":\n",
    "            bMatches +=1\n",
    "    return aMatches/(aMatches+  bMatches)\n",
    "\n",
    "#English checker function\n",
    "def matchWinCheckerEnglish(ra,rb,m):\n",
    "    aGames = 0\n",
    "    bGames = 0\n",
    "    matchEnd = False\n",
    "    while matchEnd == False:\n",
    "        aScore, bScore, rallies = englishGame(ra,rb)\n",
    "        if aScore > bScore:\n",
    "            aGames += 1\n",
    "            if aGames == m:\n",
    "                return \"a\"\n",
    "        elif bScore > aScore:\n",
    "            bGames += 1\n",
    "            if bGames == m:\n",
    "                return \"b\"\n",
    "\n",
    "def findMeanPARS(ra,rb,matches):\n",
    "    rallies = 0\n",
    "    for i in range(matches):\n",
    "        aScore, bScore = game2(ra,rb)\n",
    "        rallies += aScore + bScore\n",
    "    return rallies/matches \n",
    "\n",
    "def findMeanEnglish(ra,rb,matches):\n",
    "    ralliesFinal = 0\n",
    "    for i in range(matches):\n",
    "        aScore, bScore, rallies = englishGame(ra,rb)\n",
    "        ralliesFinal += aScore + bScore + rallies\n",
    "    return ralliesFinal/matches \n",
    "\n",
    "def plotMean(matches):            \n",
    "    xplot = []\n",
    "    yplotPARS = []\n",
    "    yplotEnglish = []\n",
    "    list = readAbilities(\"values.csv\")\n",
    "    #print (list)\n",
    "    for i in list:\n",
    "        #ra = random.randint(1,100)\n",
    "        #rb = random.randint(1,100)\n",
    "        ra = i[0]\n",
    "        rb = i[1]\n",
    "        xplot.append(ra/rb)\n",
    "        yplotPARS.append(findMeanPARS(ra,rb,matches))\n",
    "        yplotEnglish.append(findMeanEnglish(ra,rb,matches))\n",
    "    plt.plot(xplot,yplotPARS,\"r\", label = \"PARS\")\n",
    "    plt.plot(xplot,yplotEnglish,\"b\", label = \"English Scoring System\")\n",
    "    #plt.ylim([0, 30])\n",
    "    #plt.xlim([-5, 40])\n",
    "    plt.legend()\n",
    "    plt.title(\"A graph showing the number of rallies per game vs the relative abilities of A and B, for the PARS and English Scoring\")\n",
    "    plt.ylabel('Rallies per game')\n",
    "    plt.xlabel(\"Relative abilities of A and B (ra/rb)\")\n",
    "    plt.show()\n",
    "\n",
    "#file opener\n",
    "def readAbilities(filename): \n",
    "    list = []\n",
    "    with open (filename, \"r\") as csvfile:\n",
    "        rdr = csv.reader(csvfile)\n",
    "        next(rdr, None)\n",
    "        for line in rdr:\n",
    "            list.append((int(line[0]),int(line[1])))\n",
    "        return (list)"
   ]
  },
  {
   "cell_type": "markdown",
   "metadata": {},
   "source": [
    "## Assumptions"
   ]
  },
  {
   "cell_type": "markdown",
   "metadata": {},
   "source": [
    "In English Scoring, if the score reaches 8-8 then the player who was first to get 8 points decides to play to either 9 or 10, I have assumed that there is a 50% chance that 9 or 10 is chosen.\n",
    "\n",
    "I have assumed that a players ability will remain the same throughout the match and the test, realistically a player's ability can vary in a single match or after a certain amount of matches. \n",
    "\n",
    "I have assumed the player who serves first in a game is decided at random, therefore I have assigned a 50% chance that player A or player B is chosen to serve first.\n",
    "\n",
    "I have assumed that each rally takes an equal amount of time, making it easier to see how long a match will take as the length will be proportional to the number of rallies performed."
   ]
  },
  {
   "cell_type": "markdown",
   "metadata": {},
   "source": [
    "## Results"
   ]
  },
  {
   "cell_type": "code",
   "execution_count": 262,
   "metadata": {},
   "outputs": [
    {
     "data": {
      "image/png": "[encoded data removed]",
      "text/plain": [
       "<Figure size 432x288 with 1 Axes>"
      ]
     },
     "metadata": {
      "needs_background": "light"
     },
     "output_type": "display_data"
    }
   ],
   "source": [
    "plot_win_probabilities2(1000)"
   ]
  },
  {
   "cell_type": "markdown",
   "metadata": {},
   "source": [
    "The graph above shows that between the ranges of around 0.65 and 1.5 for ra/rb the PARS seems to have closer to a linear correlation than the English Scoring System, indicating that the probability that A wins and A's relative ability are more closely correlated in the PARS by a small amount. The probability that A wins in the English Scoring System only starts to change significantly from between around 0.7 to 1.4 which is a tighter range than the PARS. "
   ]
  },
  {
   "cell_type": "code",
   "execution_count": 263,
   "metadata": {},
   "outputs": [
    {
     "data": {
      "image/png": "[encoded data removed]",
      "text/plain": [
       "<Figure size 432x288 with 1 Axes>"
      ]
     },
     "metadata": {
      "needs_background": "light"
     },
     "output_type": "display_data"
    }
   ],
   "source": [
    "plotMean(500)"
   ]
  },
  {
   "cell_type": "markdown",
   "metadata": {},
   "source": [
    "The graph above clearly shows that there is, on average, less rallies per game for the PARS when the abilities of ra/rb are between the range 0-6. This is because the games are closer, therefore less consecutive games will be won, therefore there will be more rallies that do not affect the score. When the abilities of ra/rb are over 6, the rallies per game are shorter for the English System as A is virtually guaranteed to win every point, and the games only play until 9 as opposed to 11."
   ]
  },
  {
   "cell_type": "markdown",
   "metadata": {},
   "source": [
    "## Conclusions"
   ]
  },
  {
   "cell_type": "markdown",
   "metadata": {},
   "source": [
    "In conclusion I believe that the PARS is preferable to English Scoring as the number of rallies per game are significantly less where the players are of comparable ability, which in most cases they should be. The player ability and win probability are also slightly more correlated for the PARS than when using English Scoring although this is a less significant difference. In the future I could add a statistical test to see if the difference is significant for figure 1, potentially a Spearman's Rank test could be used."
   ]
  }
 ],
 "metadata": {
  "interpreter": {
   "hash": "183b6f3dd52b9ae2bd385afe1588cc6cf56d78005d888e2b09b3c195f16f84ec"
  },
  "kernelspec": {
   "display_name": "Python 3",
   "language": "python",
   "name": "python3"
  },
  "language_info": {
   "codemirror_mode": {
    "name": "ipython",
    "version": 3
   },
   "file_extension": ".py",
   "mimetype": "text/x-python",
   "name": "python",
   "nbconvert_exporter": "python",
   "pygments_lexer": "ipython3",
   "version": "3.8.8"
  }
 },
 "nbformat": 4,
 "nbformat_minor": 4
}
